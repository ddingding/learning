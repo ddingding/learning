{
 "cells": [
  {
   "cell_type": "code",
   "execution_count": 69,
   "metadata": {
    "collapsed": true
   },
   "outputs": [],
   "source": [
    "import pandas as pd\n",
    "%matplotlib inline\n",
    "\n",
    "import matplotlib.pyplot as plt\n",
    "import numpy as np\n",
    "\n",
    "from scipy.special import digamma"
   ]
  },
  {
   "cell_type": "code",
   "execution_count": 88,
   "metadata": {
    "collapsed": false
   },
   "outputs": [
    {
     "data": {
      "image/png": "[encoded data removed]",
      "text/plain": [
       "<matplotlib.figure.Figure at 0x109afff90>"
      ]
     },
     "metadata": {},
     "output_type": "display_data"
    }
   ],
   "source": [
    "#read old faithful dataset and plot\n",
    "x = pd.read_table('./data/oldFaithful.csv', sep=' ')\n",
    "plt.figure()\n",
    "plt.scatter( x['X'], x['Y'])\n",
    "plt.show()\n",
    "\n",
    "xn = x[['X', 'Y']].values\n",
    "\n",
    "N, D = xn.shape\n",
    "\n"
   ]
  },
  {
   "cell_type": "code",
   "execution_count": null,
   "metadata": {
    "collapsed": false
   },
   "outputs": [],
   "source": []
  },
  {
   "cell_type": "markdown",
   "metadata": {},
   "source": [
    "#VI"
   ]
  },
  {
   "cell_type": "code",
   "execution_count": 82,
   "metadata": {
    "collapsed": false
   },
   "outputs": [
    {
     "data": {
      "text/plain": [
       "'\\nm0 = 0 * np.ones(K)\\nbeta0 = \\nW0 =\\nv0\\n'"
      ]
     },
     "execution_count": 82,
     "metadata": {},
     "output_type": "execute_result"
    }
   ],
   "source": [
    "\n",
    "#hyperparams:\n",
    "\n",
    "#dirichlet hyper\n",
    "K = 6\n",
    "alpha0= 0.001\n",
    "alpha = alpha0 * np.ones(K)\n",
    "\n",
    "#normal-wishart\n",
    "'''\n",
    "m0 = 0 * np.ones(K)\n",
    "beta0 = \n",
    "W0 =\n",
    "v0\n",
    "'''"
   ]
  },
  {
   "cell_type": "code",
   "execution_count": 92,
   "metadata": {
    "collapsed": false
   },
   "outputs": [],
   "source": [
    "#variables\n",
    "z = np.empty((N,K)) # 1-hot\n",
    "r = np.empty((N,K))\n",
    "\n",
    "#\n",
    "N_k = np.empty((K,1))\n",
    "x_mean_k = np.empty((K,D))\n",
    "S_k = np.empty((K,D,D))\n"
   ]
  },
  {
   "cell_type": "code",
   "execution_count": 24,
   "metadata": {
    "collapsed": false
   },
   "outputs": [
    {
     "name": "stdout",
     "output_type": "stream",
     "text": [
      "0.001\n"
     ]
    }
   ],
   "source": [
    "def update_r(n):\n",
    "    #variational E step\n",
    "    # use current distribution to over params \n",
    "    # to evaluate responsibilities E[z_nk] = r_nk\n",
    "\n",
    "    #update pi_squi, E[ log pi_k], (10.66)\n",
    "    alpha[k]\n",
    "    pi_squi = np.exp(digamma(alpha[k]) - digamma(sum(alpha)))\n",
    "\n",
    "    #update lambda_squi (10.65)\n",
    "    lambda_squi = sum([digamma(0.5*(v_k+1 - i)) + D* np.log(2) + np.log(np.linalg.det(W_k)) for i in range(1,D+1)])\n",
    "\n",
    "    #to compute square term\n",
    "    W_k # matrix of covariance of cluster k\n",
    "    beta_k  # scalar\n",
    "    m_k # mean of cluster k\n",
    "    v_k #scalar\n",
    "    square_term = -d/(2*beta_k) - v_k*0.5 *(x[n]- m_k)* W_k * (x[n] - m_k)\n",
    "\n",
    "    r[n,k] = pi_squi[k] * lambda_squi[k] * np.exp(square_term)\n",
    "    return\n",
    "\n",
    "\n",
    "#variational M step\n",
    "#keep responsibilities fixed and use them to re-compute variational \n",
    "#distribution over params using \n",
    "# 10.57\n",
    "# 10.59\n",
    "\n",
    "def update_pi_mu_lambda():\n",
    "    \n",
    "    #update all N_k\n",
    "    for k in K:\n",
    "        N_k[k] = sum([r[n,k] for n in range(N)])\n",
    "    \n",
    "        #update all x_mean_k\n",
    "        x_mean_k[k] = 1/N_k[k] * sum([r[n,k]* xn[n] for n in range(N)])\n",
    "    \n",
    "        #update all S_k\n",
    "        S_k[k] = 1/N_k[k] * sum([r[n,k]* np.outer((xn[n]- x_mean_k[k]),(xn[n]- x_mean_k[k])) for n in range(N)])\n",
    "        \n",
    "    return\n",
    "    \n",
    "\n",
    "q_star_pi = Dir(pi|alpha)\n",
    "q_star_muK_lambdaK = gaussian wishart\n",
    "#and 10.59"
   ]
  },
  {
   "cell_type": "code",
   "execution_count": 101,
   "metadata": {
    "collapsed": false
   },
   "outputs": [
    {
     "data": {
      "text/plain": [
       "array([11, 17])"
      ]
     },
     "execution_count": 101,
     "metadata": {},
     "output_type": "execute_result"
    }
   ],
   "source": [
    "\n",
    "a = np.array([1,2])\n",
    "b = np.array([[3,4],[5,6]])\n",
    "np.inner(a,b)"
   ]
  },
  {
   "cell_type": "code",
   "execution_count": null,
   "metadata": {
    "collapsed": true
   },
   "outputs": [],
   "source": [
    "# do the iterative fitting\n",
    "\n",
    "#initialize parameters\n",
    "\n",
    "# until convergence:\n",
    "    # estimate r_nk\n",
    "    \n",
    "    #estimate q_star(pi, mu_k, lambda_k)\n"
   ]
  },
  {
   "cell_type": "code",
   "execution_count": 38,
   "metadata": {
    "collapsed": false
   },
   "outputs": [
    {
     "data": {
      "text/plain": [
       "2.7182818284590451"
      ]
     },
     "execution_count": 38,
     "metadata": {},
     "output_type": "execute_result"
    }
   ],
   "source": []
  },
  {
   "cell_type": "code",
   "execution_count": null,
   "metadata": {
    "collapsed": true
   },
   "outputs": [],
   "source": []
  }
 ],
 "metadata": {
  "kernelspec": {
   "display_name": "Python 2",
   "language": "python",
   "name": "python2"
  },
  "language_info": {
   "codemirror_mode": {
    "name": "ipython",
    "version": 2
   },
   "file_extension": ".py",
   "mimetype": "text/x-python",
   "name": "python",
   "nbconvert_exporter": "python",
   "pygments_lexer": "ipython2",
   "version": "2.7.12"
  }
 },
 "nbformat": 4,
 "nbformat_minor": 0
}
